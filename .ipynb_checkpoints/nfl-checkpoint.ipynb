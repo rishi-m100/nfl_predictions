{
 "cells": [
  {
   "cell_type": "code",
   "execution_count": null,
   "id": "194cfe26",
   "metadata": {},
   "outputs": [],
   "source": [
    "import pandas as pd\n",
    "import sklearn as sk\n",
    "from sklearn.model_selection import train_test_split\n",
    "from sklearn.linear_model import LinearRegression\n",
    "from sklearn.metrics import mean_squared_error\n",
    "import matplotlib.pyplot as plt\n",
    "data = pd.read_csv(\"nfl_data/yearly_data.csv\")\n",
    "data.head()"
   ]
  },
  {
   "cell_type": "code",
   "execution_count": null,
   "id": "7e01071b",
   "metadata": {},
   "outputs": [],
   "source": [
    "selected_columns = ['id', 'name', 'season', 'rushing_yards', 'rushing_tds', 'rushing_fumbles', 'rushing_fumbles_lost', 'rushing_first_downs', 'receptions', 'targets', 'receiving_yards', 'receiving_tds', 'receiving_fumbles', 'receiving_fumbles_lost', 'receiving_air_yards', 'receiving_yards_after_catch', 'receiving_first_downs', 'receiving_2pt_conversions', 'target_share', 'air_yards_share', 'fantasy_points', 'fantasy_points_ppr', 'total_yards', 'games', 'offense_snaps', 'teams_offense_snaps', 'ypr', 'touches', 'rush_td_percentage', 'rec_td_percentage', 'total_tds', 'td_percentage', 'rush_ypg', 'rec_ypg', 'ppg', 'ppr_ppg']\n",
    "wr = data[data['position'] == 'WR'][selected_columns]\n",
    "#wr"
   ]
  },
  {
   "cell_type": "code",
   "execution_count": null,
   "id": "95f9e676",
   "metadata": {},
   "outputs": [],
   "source": [
    "X=wr[selected_columns].drop(columns=['receiving_yards','name', 'id'])\n",
    "y=wr['receiving_yards']\n",
    "#X\n",
    "#y"
   ]
  },
  {
   "cell_type": "code",
   "execution_count": null,
   "id": "ce0f8888",
   "metadata": {},
   "outputs": [],
   "source": [
    "X_train, X_test, y_train, y_test = train_test_split(X, y, test_size=0.2, random_state=42)"
   ]
  },
  {
   "cell_type": "code",
   "execution_count": null,
   "id": "9e42057f",
   "metadata": {},
   "outputs": [],
   "source": [
    "model = LinearRegression()\n",
    "model.fit(X_train, y_train)"
   ]
  },
  {
   "cell_type": "code",
   "execution_count": null,
   "id": "f230605c",
   "metadata": {},
   "outputs": [],
   "source": [
    "#name=\"A.J. Brown\"\n",
    "#name=\"Alvin Kamara\"\n",
    "# name=\"Nelson Agholor\"\n",
    "name=\"Gabe Davis\"\n",
    "result_id = data.loc[data['name'] == name, 'id'].values[0]\n",
    "result_year = data.loc[data['id'] == result_id, 'season'].max()"
   ]
  },
  {
   "cell_type": "code",
   "execution_count": null,
   "id": "d71176c9",
   "metadata": {},
   "outputs": [],
   "source": [
    "# result_id\n",
    "# result_year\n",
    "desired_row = wr[(wr['id'] == result_id) & (wr['season'] == result_year)]\n",
    "# desired_row\n",
    "desired_player = desired_row.drop(columns=['receiving_yards','name', 'id'])\n",
    "# desired_player\n",
    "# wr.iloc[1]"
   ]
  },
  {
   "cell_type": "code",
   "execution_count": null,
   "id": "9e2c05ed",
   "metadata": {},
   "outputs": [],
   "source": [
    "y_pred = model.predict(desired_player)"
   ]
  },
  {
   "cell_type": "code",
   "execution_count": null,
   "id": "6c1c40ca",
   "metadata": {},
   "outputs": [],
   "source": [
    "y_pred"
   ]
  }
 ],
 "metadata": {
  "kernelspec": {
   "display_name": "Python 3 (ipykernel)",
   "language": "python",
   "name": "python3"
  },
  "language_info": {
   "codemirror_mode": {
    "name": "ipython",
    "version": 3
   },
   "file_extension": ".py",
   "mimetype": "text/x-python",
   "name": "python",
   "nbconvert_exporter": "python",
   "pygments_lexer": "ipython3",
   "version": "3.9.13"
  }
 },
 "nbformat": 4,
 "nbformat_minor": 5
}
