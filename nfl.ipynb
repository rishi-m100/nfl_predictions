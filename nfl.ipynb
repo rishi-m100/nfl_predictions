{
 "cells": [
  {
   "cell_type": "code",
   "execution_count": null,
   "id": "18f812a3",
   "metadata": {},
   "outputs": [],
   "source": [
    "import pandas as pd\n",
    "import sklearn as sk\n",
    "from sklearn.model_selection import train_test_split\n",
    "from sklearn.linear_model import LinearRegression\n",
    "from sklearn.metrics import mean_squared_error\n",
    "import matplotlib.pyplot as plt\n",
    "data = pd.read_csv(\"nfl_data/yearly_data.csv\")\n",
    "#data.head()"
   ]
  },
  {
   "cell_type": "code",
   "execution_count": null,
   "id": "5f562136",
   "metadata": {},
   "outputs": [],
   "source": [
    "selected_columns = ['id', 'name', 'season', 'rushing_yards', 'rushing_tds', 'rushing_fumbles', 'rushing_fumbles_lost', 'rushing_first_downs', 'receptions', 'targets', 'receiving_yards', 'receiving_tds', 'receiving_fumbles', 'receiving_fumbles_lost', 'receiving_air_yards', 'receiving_yards_after_catch', 'receiving_first_downs', 'receiving_2pt_conversions', 'target_share', 'air_yards_share', 'fantasy_points', 'fantasy_points_ppr', 'total_yards', 'games', 'offense_snaps', 'teams_offense_snaps', 'ypr', 'touches', 'rush_td_percentage', 'rec_td_percentage', 'total_tds', 'td_percentage', 'rush_ypg', 'rec_ypg', 'ppg', 'ppr_ppg']\n",
    "wr = data[data['position'] == 'WR'][selected_columns]\n",
    "#wr"
   ]
  },
  {
   "cell_type": "code",
   "execution_count": null,
   "id": "78fac113",
   "metadata": {},
   "outputs": [],
   "source": [
    "X=wr[selected_columns].drop(columns=['receiving_yards','name', 'id'])\n",
    "y=wr['receiving_yards']\n",
    "#X\n",
    "#y"
   ]
  },
  {
   "cell_type": "code",
   "execution_count": null,
   "id": "728f21fa",
   "metadata": {},
   "outputs": [],
   "source": [
    "X_train, X_test, y_train, y_test = train_test_split(X, y, test_size=0.2, random_state=42)"
   ]
  },
  {
   "cell_type": "code",
   "execution_count": null,
   "id": "dbc48543",
   "metadata": {},
   "outputs": [],
   "source": [
    "model = LinearRegression()\n",
    "model.fit(X_train, y_train)"
   ]
  },
  {
   "cell_type": "code",
   "execution_count": null,
   "id": "2713a5d8",
   "metadata": {},
   "outputs": [],
   "source": [
    "#name=\"A.J. Brown\"\n",
    "#name=\"Alvin Kamara\"\n",
    "# name=\"Nelson Agholor\"\n",
    "name=\"Cooper Kupp\"\n",
    "result_id = data.loc[data['name'] == name, 'id'].values[0]\n",
    "result_year = data.loc[data['id'] == result_id, 'season'].max()"
   ]
  },
  {
   "cell_type": "code",
   "execution_count": null,
   "id": "54b9a301",
   "metadata": {},
   "outputs": [],
   "source": [
    "# result_id\n",
    "# result_year\n",
    "desired_row = wr[(wr['id'] == result_id) & (wr['season'] == result_year)]\n",
    "# desired_row\n",
    "desired_player = desired_row.drop(columns=['receiving_yards','name', 'id'])\n",
    "# desired_player\n",
    "# wr.iloc[1]"
   ]
  },
  {
   "cell_type": "code",
   "execution_count": null,
   "id": "ac83b427",
   "metadata": {},
   "outputs": [],
   "source": [
    "y_pred = model.predict(desired_player)"
   ]
  },
  {
   "cell_type": "code",
   "execution_count": null,
   "id": "d4f0115d",
   "metadata": {},
   "outputs": [],
   "source": [
    "y_pred"
   ]
  },
  {
   "cell_type": "code",
   "execution_count": null,
   "id": "756caa24",
   "metadata": {},
   "outputs": [],
   "source": [
    "selected_columns = ['id', 'name', 'season', 'completions', 'attempts', 'passing_yards', 'passing_tds', 'interceptions', 'sacks', 'sack_yards', 'sack_fumbles', 'sack_fumbles_lost', 'passing_air_yards', 'passing_yards_after_catch', 'passing_first_downs', 'passing_2pt_conversions', 'carries', 'rushing_yards', 'rushing_tds', 'rushing_fumbles', 'rushing_fumbles_lost', 'rushing_first_downs', 'rushing_2pt_conversions', 'fantasy_points', 'fantasy_points_ppr', 'total_yards', 'games', 'offense_snaps', 'teams_offense_snaps', 'ypa', 'ypc', 'touches', 'comp_percentage', 'pass_td_percentage', 'int_percentage', 'rush_td_percentage', 'total_tds', 'td_percentage', 'pass_ypg', 'rush_ypg', 'ppg', 'ppr_ppg', 'ypg', 'pr', 'years_played']\n",
    "qb = data[data['position'] == 'QB'][selected_columns]\n",
    "qb.fillna(0, inplace=True)\n",
    "#qb"
   ]
  },
  {
   "cell_type": "code",
   "execution_count": null,
   "id": "7ef0eb52",
   "metadata": {},
   "outputs": [],
   "source": [
    "X=qb[selected_columns].drop(columns=['passing_yards','name', 'id'])\n",
    "y=qb['passing_yards']\n",
    "#X\n",
    "#y"
   ]
  },
  {
   "cell_type": "code",
   "execution_count": null,
   "id": "9e85fb95",
   "metadata": {},
   "outputs": [],
   "source": [
    "X_train, X_test, y_train, y_test = train_test_split(X, y, test_size=0.2, random_state=421)"
   ]
  },
  {
   "cell_type": "code",
   "execution_count": null,
   "id": "73e00402",
   "metadata": {},
   "outputs": [],
   "source": [
    "model = LinearRegression()\n",
    "model.fit(X_train, y_train)"
   ]
  },
  {
   "cell_type": "code",
   "execution_count": null,
   "id": "9c038631",
   "metadata": {},
   "outputs": [],
   "source": [
    "#name=\"Josh Allen\"\n",
    "#name=\"Justin Herbert\"\n",
    "# name=\"Patrick Mahomes\"\n",
    "name=\"Lamar Jackson\"\n",
    "result_id = data.loc[data['name'] == name, 'id'].values[0]\n",
    "result_year = data.loc[data['id'] == result_id, 'season'].max()"
   ]
  },
  {
   "cell_type": "code",
   "execution_count": null,
   "id": "b3cdeaa7",
   "metadata": {},
   "outputs": [],
   "source": [
    "# result_id\n",
    "# result_year\n",
    "desired_row = qb[(qb['id'] == result_id) & (qb['season'] == result_year)]\n",
    "# desired_row\n",
    "desired_player = desired_row.drop(columns=['passing_yards','name', 'id'])\n",
    "# desired_player\n",
    "# qb.iloc[1]"
   ]
  },
  {
   "cell_type": "code",
   "execution_count": null,
   "id": "467cb04c",
   "metadata": {},
   "outputs": [],
   "source": [
    "y_pred = model.predict(desired_player)"
   ]
  },
  {
   "cell_type": "code",
   "execution_count": null,
   "id": "84b794ff",
   "metadata": {},
   "outputs": [],
   "source": [
    "y_pred"
   ]
  },
  {
   "cell_type": "code",
   "execution_count": null,
   "id": "5f42333c",
   "metadata": {},
   "outputs": [],
   "source": []
  }
 ],
 "metadata": {
  "kernelspec": {
   "display_name": "Python 3 (ipykernel)",
   "language": "python",
   "name": "python3"
  },
  "language_info": {
   "codemirror_mode": {
    "name": "ipython",
    "version": 3
   },
   "file_extension": ".py",
   "mimetype": "text/x-python",
   "name": "python",
   "nbconvert_exporter": "python",
   "pygments_lexer": "ipython3",
   "version": "3.9.13"
  }
 },
 "nbformat": 4,
 "nbformat_minor": 5
}
